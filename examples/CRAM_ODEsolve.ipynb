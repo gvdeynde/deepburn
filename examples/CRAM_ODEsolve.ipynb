{
 "cells": [
  {
   "cell_type": "code",
   "execution_count": 1,
   "id": "b937d6fa",
   "metadata": {},
   "outputs": [],
   "source": [
    "import numpy as np\n",
    "\n",
    "from scipy.linalg import expm as la_expm\n",
    "from scipy.sparse.linalg import expm as sp_expm\n",
    "import scipy.sparse as sp\n",
    "from scipy.integrate import solve_ivp\n",
    "\n",
    "import matplotlib.pyplot as plt\n",
    "\n",
    "from deepburn.CRAM import CRA, CRAC, CRA_ODEsolver\n",
    "from deepburn.CRAM import cras_literature as cl\n",
    "\n",
    "np.set_printoptions(precision=16)"
   ]
  },
  {
   "cell_type": "code",
   "execution_count": 2,
   "id": "6dcfa5bf",
   "metadata": {},
   "outputs": [],
   "source": [
    "#Polonium problem\n",
    "\n",
    "A = np.array([[-1.83163e-12,0,0],[+1.83163e-12,-1.60035e-6,0],[0,+1.60035e-6,-5.79764e-8]])\n",
    "def Ydot(t,Y):\n",
    "    A = np.array([[-1.83163e-12,0,0],[+1.83163e-12,-1.60035e-6,0],[0,+1.60035e-6,-5.79764e-8]])\n",
    "    return A.dot(Y)\n",
    "    \n",
    "Y0 = np.array([6.95896e-4,0,0])\n"
   ]
  },
  {
   "cell_type": "markdown",
   "id": "546316be",
   "metadata": {},
   "source": [
    "## Solving with Radau ##"
   ]
  },
  {
   "cell_type": "code",
   "execution_count": 3,
   "id": "a12f2762",
   "metadata": {},
   "outputs": [
    {
     "name": "stdout",
     "output_type": "stream",
     "text": [
      "[[6.9585577708845012e-04]\n",
      " [7.9642064281967071e-10]\n",
      " [1.8323781965287107e-08]]\n"
     ]
    }
   ],
   "source": [
    "oneY = 365.25*24*3600\n",
    "Y_Radau = solve_ivp(Ydot,(0, oneY), Y0, method=\"Radau\", rtol=1e-12, atol = 1e-30, t_eval=[oneY])\n",
    "print(Y_Radau.y)"
   ]
  },
  {
   "cell_type": "markdown",
   "id": "2a321b65",
   "metadata": {},
   "source": [
    "## Solving with expm from SciPy dense ##"
   ]
  },
  {
   "cell_type": "code",
   "execution_count": 4,
   "id": "fe8537b6",
   "metadata": {},
   "outputs": [
    {
     "name": "stdout",
     "output_type": "stream",
     "text": [
      "[6.9585577708844806e-04 7.9642064281966834e-10 1.8323781965286988e-08]\n"
     ]
    }
   ],
   "source": [
    "Y_expmdense = np.dot(la_expm(A*oneY),Y0)\n",
    "print(Y_expmdense)"
   ]
  },
  {
   "cell_type": "markdown",
   "id": "393c590a",
   "metadata": {},
   "source": [
    "## Solving with expm from SciPy sparse ##"
   ]
  },
  {
   "cell_type": "code",
   "execution_count": 5,
   "id": "5c1dd586",
   "metadata": {},
   "outputs": [
    {
     "name": "stdout",
     "output_type": "stream",
     "text": [
      "[6.9585577708844806e-04 7.9642064281966823e-10 1.8323781965286994e-08]\n"
     ]
    }
   ],
   "source": [
    "Asp = sp.csc_matrix(A)\n",
    "Y_expsp = sp.linalg.expm(Asp*oneY) *Y0\n",
    "print(Y_expsp)"
   ]
  },
  {
   "cell_type": "markdown",
   "id": "b3ae999d",
   "metadata": {},
   "source": [
    "## Solving with CRA from DeepBurn ##"
   ]
  },
  {
   "cell_type": "code",
   "execution_count": 6,
   "id": "10faf59d",
   "metadata": {
    "scrolled": true
   },
   "outputs": [
    {
     "name": "stdout",
     "output_type": "stream",
     "text": [
      "[6.958557770884381e-04 7.964206428196540e-10 1.832378196528666e-08]\n"
     ]
    }
   ],
   "source": [
    "cras = CRA_ODEsolver()\n",
    "Y_cras = cras._solveCRA(A*oneY, Y0)\n",
    "print(Y_cras)"
   ]
  },
  {
   "cell_type": "code",
   "execution_count": 7,
   "id": "344384ff",
   "metadata": {},
   "outputs": [
    {
     "name": "stdout",
     "output_type": "stream",
     "text": [
      "[6.958557770884329e-04 7.964206428196540e-10 1.832378196528666e-08]\n"
     ]
    }
   ],
   "source": [
    "cras = CRA_ODEsolver()\n",
    "Y_cras = cras._solveCRA(Asp*oneY, Y0)\n",
    "print(Y_cras)"
   ]
  },
  {
   "cell_type": "code",
   "execution_count": null,
   "id": "c94c53f2",
   "metadata": {},
   "outputs": [],
   "source": []
  }
 ],
 "metadata": {
  "kernelspec": {
   "display_name": "Python 3",
   "language": "python",
   "name": "python3"
  },
  "language_info": {
   "codemirror_mode": {
    "name": "ipython",
    "version": 3
   },
   "file_extension": ".py",
   "mimetype": "text/x-python",
   "name": "python",
   "nbconvert_exporter": "python",
   "pygments_lexer": "ipython3",
   "version": "3.9.5"
  }
 },
 "nbformat": 4,
 "nbformat_minor": 5
}
