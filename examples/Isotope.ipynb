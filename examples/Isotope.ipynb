{
 "cells": [
  {
   "cell_type": "code",
   "execution_count": 1,
   "id": "23748b97",
   "metadata": {},
   "outputs": [],
   "source": [
    "import deepburn.isotope as iso"
   ]
  },
  {
   "cell_type": "code",
   "execution_count": 2,
   "id": "3719171c",
   "metadata": {},
   "outputs": [],
   "source": [
    "H1 = iso.Isotope(\"H1\")\n",
    "Cf252 = iso.Isotope((98, 252, 0))\n",
    "Am241m = iso.Isotope((95, 241, 1))\n",
    "Xe135 = iso.Isotope((54, 135))"
   ]
  },
  {
   "cell_type": "code",
   "execution_count": 3,
   "id": "c39db3a2",
   "metadata": {},
   "outputs": [
    {
     "name": "stdout",
     "output_type": "stream",
     "text": [
      "H-1\n"
     ]
    }
   ],
   "source": [
    "print(H1)"
   ]
  },
  {
   "cell_type": "code",
   "execution_count": 4,
   "id": "d7916cd2",
   "metadata": {},
   "outputs": [
    {
     "data": {
      "text/plain": [
       "'Xe-135'"
      ]
     },
     "execution_count": 4,
     "metadata": {},
     "output_type": "execute_result"
    }
   ],
   "source": [
    "Xe135.name"
   ]
  },
  {
   "cell_type": "code",
   "execution_count": 5,
   "id": "55d17491",
   "metadata": {},
   "outputs": [
    {
     "data": {
      "text/plain": [
       "'Am-241m'"
      ]
     },
     "execution_count": 5,
     "metadata": {},
     "output_type": "execute_result"
    }
   ],
   "source": [
    "Am241m.name"
   ]
  },
  {
   "cell_type": "code",
   "execution_count": null,
   "id": "e7349e5a",
   "metadata": {},
   "outputs": [],
   "source": []
  }
 ],
 "metadata": {
  "kernelspec": {
   "display_name": "Python 3",
   "language": "python",
   "name": "python3"
  },
  "language_info": {
   "codemirror_mode": {
    "name": "ipython",
    "version": 3
   },
   "file_extension": ".py",
   "mimetype": "text/x-python",
   "name": "python",
   "nbconvert_exporter": "python",
   "pygments_lexer": "ipython3",
   "version": "3.9.5"
  }
 },
 "nbformat": 4,
 "nbformat_minor": 5
}
