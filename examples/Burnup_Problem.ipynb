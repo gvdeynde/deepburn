{
 "cells": [
  {
   "cell_type": "code",
   "execution_count": 1,
   "id": "50ff195c",
   "metadata": {},
   "outputs": [],
   "source": [
    "import numpy as np\n",
    "import deepburn.burnup_problem as bup"
   ]
  },
  {
   "cell_type": "code",
   "execution_count": 2,
   "id": "55b8c1fc",
   "metadata": {},
   "outputs": [],
   "source": [
    "pol = bup.Polonium()"
   ]
  },
  {
   "cell_type": "code",
   "execution_count": 3,
   "id": "a2466901",
   "metadata": {},
   "outputs": [
    {
     "name": "stdout",
     "output_type": "stream",
     "text": [
      "[7776000, 11664000, 15552000]\n"
     ]
    }
   ],
   "source": [
    "print(pol.time_stamps)"
   ]
  },
  {
   "cell_type": "code",
   "execution_count": 5,
   "id": "19f9a6b7",
   "metadata": {},
   "outputs": [
    {
     "name": "stdout",
     "output_type": "stream",
     "text": [
      "{7776000: array([6.95886089e-04, 7.96452197e-10, 7.96443991e-10]), 15552000: array([6.95876177e-04, 7.45182495e-09, 1.27257883e-08])}\n"
     ]
    }
   ],
   "source": [
    "print(pol._refsols)"
   ]
  },
  {
   "cell_type": "code",
   "execution_count": null,
   "id": "597ce019",
   "metadata": {},
   "outputs": [],
   "source": []
  }
 ],
 "metadata": {
  "kernelspec": {
   "display_name": "Python 3",
   "language": "python",
   "name": "python3"
  },
  "language_info": {
   "codemirror_mode": {
    "name": "ipython",
    "version": 3
   },
   "file_extension": ".py",
   "mimetype": "text/x-python",
   "name": "python",
   "nbconvert_exporter": "python",
   "pygments_lexer": "ipython3",
   "version": "3.9.5"
  }
 },
 "nbformat": 4,
 "nbformat_minor": 5
}
