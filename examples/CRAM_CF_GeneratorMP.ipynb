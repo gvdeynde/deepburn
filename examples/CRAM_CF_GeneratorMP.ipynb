{
 "cells": [
  {
   "cell_type": "code",
   "execution_count": 1,
   "id": "be357d28",
   "metadata": {},
   "outputs": [],
   "source": [
    "from itertools import product\n",
    "import numpy as np\n",
    "import mpmath as mp\n",
    "from deepburn.CRAM import CaratheodoryFejer as CF\n",
    "from deepburn.CRAM import CRAC\n",
    "from tqdm.auto import tqdm\n",
    "import multiprocessing as mp"
   ]
  },
  {
   "cell_type": "code",
   "execution_count": 2,
   "id": "67720396",
   "metadata": {},
   "outputs": [],
   "source": [
    "np.set_printoptions(precision=20)"
   ]
  },
  {
   "cell_type": "code",
   "execution_count": 3,
   "id": "46a2aa6b",
   "metadata": {},
   "outputs": [
    {
     "name": "stdout",
     "output_type": "stream",
     "text": [
      "Overwriting CRAM_gen.py\n"
     ]
    }
   ],
   "source": [
    "%%writefile CRAM_gen.py\n",
    "\n",
    "import numpy as np\n",
    "import mpmath as mp\n",
    "from deepburn.CRAM import CaratheodoryFejer as CF\n",
    "from deepburn.CRAM import CRAC\n",
    "\n",
    "def tofloat(x):\n",
    "    return np.array(x, dtype=float)\n",
    "\n",
    "def tocomplex(x):\n",
    "    return np.array(x, dtype=complex)\n",
    "\n",
    "mpreal = np.vectorize(mp.re)\n",
    "mpimag = np.vectorize(mp.im)\n",
    "\n",
    "def CRAM_gen(inputs):\n",
    "    dps = inputs[0]\n",
    "    nf = inputs[1]\n",
    "    K = inputs[2]\n",
    "    order = np.arange(2,17, dtype=int)\n",
    "    fname = f\"CRAM_{dps}_{nf}_{K}.dat\"\n",
    "    with open(fname, \"wt\") as f:\n",
    "        for n in order:\n",
    "            zk, ck, rinf = CF(int(n), False, dps, K, nf)\n",
    "\n",
    "            theta = tofloat(mpreal(zk[:(n+1)//2])) + tofloat(mpimag(zk[:(n+1)//2]))*1j\n",
    "            alpha = tofloat(mpreal(ck[:(n+1)//2])) + tofloat(mpimag(ck[:(n+1)//2]))*1j\n",
    "            cramdict = {\n",
    "                \"origin\": \"VandenEynde2021\",\n",
    "                \"order\": n,\n",
    "                \"rinf\" : float(mpreal(rinf)),\n",
    "                \"theta\": theta.tolist(),\n",
    "                \"alpha\": alpha.tolist()\n",
    "            }\n",
    "\n",
    "            f.write(str(cramdict)+'\\n')\n",
    "            f.flush()"
   ]
  },
  {
   "cell_type": "code",
   "execution_count": 4,
   "id": "1f6f8c2d-20ba-447f-90bb-7734d60257ea",
   "metadata": {},
   "outputs": [
    {
     "name": "stdout",
     "output_type": "stream",
     "text": [
      "[(15, 1024, 75), (15, 1024, 100), (15, 1024, 150), (15, 2048, 75), (15, 2048, 100), (15, 2048, 150), (30, 1024, 75), (30, 1024, 100), (30, 1024, 150), (30, 2048, 75), (30, 2048, 100), (30, 2048, 150), (100, 1024, 75), (100, 1024, 100), (100, 1024, 150), (100, 2048, 75), (100, 2048, 100), (100, 2048, 150), (200, 1024, 75), (200, 1024, 100), (200, 1024, 150), (200, 2048, 75), (200, 2048, 100), (200, 2048, 150), (400, 1024, 75), (400, 1024, 100), (400, 1024, 150), (400, 2048, 75), (400, 2048, 100), (400, 2048, 150)]\n",
      "8\n"
     ]
    }
   ],
   "source": [
    "dps_list = [15, 30, 100, 200, 400]\n",
    "nf_list = [1024, 2048]\n",
    "K_list = [75, 100, 150]#[75, 100, 150]\n",
    "\n",
    "worklist = list(product(dps_list, nf_list, K_list))\n",
    "print(worklist)\n",
    "print(mp.cpu_count())"
   ]
  },
  {
   "cell_type": "code",
   "execution_count": null,
   "id": "9109e9cb-3fb7-463b-b4b4-d2532cf4e1f9",
   "metadata": {},
   "outputs": [
    {
     "data": {
      "application/vnd.jupyter.widget-view+json": {
       "model_id": "0cc7fe01a90148cba41638a6c061a842",
       "version_major": 2,
       "version_minor": 0
      },
      "text/plain": [
       "  0%|          | 0/30 [00:00<?, ?it/s]"
      ]
     },
     "metadata": {},
     "output_type": "display_data"
    }
   ],
   "source": [
    "from CRAM_gen import CRAM_gen\n",
    "\n",
    "for element in tqdm(worklist):\n",
    "    dps = int(element[0])\n",
    "    nf = int(element[1])\n",
    "    K = int(element[2])\n",
    "    \n",
    "    with mp.Pool(processes=mp.cpu_count()) as pool:\n",
    "        res = pool.map(CRAM_gen, worklist, chunksize=1+len(worklist)//mp.cpu_count())\n"
   ]
  },
  {
   "cell_type": "code",
   "execution_count": null,
   "id": "ad4d9e6f-7a63-441b-8eab-6933819890f8",
   "metadata": {},
   "outputs": [],
   "source": [
    "print(len(worklist))"
   ]
  },
  {
   "cell_type": "code",
   "execution_count": null,
   "id": "97ab2fd4-9976-49b9-abb9-2cb738e20e47",
   "metadata": {},
   "outputs": [],
   "source": []
  }
 ],
 "metadata": {
  "kernelspec": {
   "display_name": "Python 3 (ipykernel)",
   "language": "python",
   "name": "python3"
  },
  "language_info": {
   "codemirror_mode": {
    "name": "ipython",
    "version": 3
   },
   "file_extension": ".py",
   "mimetype": "text/x-python",
   "name": "python",
   "nbconvert_exporter": "python",
   "pygments_lexer": "ipython3",
   "version": "3.9.7"
  }
 },
 "nbformat": 4,
 "nbformat_minor": 5
}
